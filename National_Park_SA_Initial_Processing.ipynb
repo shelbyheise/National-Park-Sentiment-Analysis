{
 "cells": [
  {
   "cell_type": "code",
   "execution_count": 1,
   "metadata": {},
   "outputs": [],
   "source": [
    "import pandas as pd\n",
    "import numpy as np\n",
    "import json\n",
    "import sklearn\n",
    "from sklearn.feature_extraction import text\n",
    "import seaborn as sns\n",
    "import nltk\n",
    "nltk.download('vader_lexicon')\n",
    "from nltk.sentiment import SentimentAnalyzer\n",
    "from nltk.sentiment import SentimentIntensityAnalyzer\n",
    "from nltk.tokenize import TweetTokenizer\n",
    "from nltk.corpus import stopwords"
   ]
  },
  {
   "cell_type": "code",
   "execution_count": 2,
   "metadata": {},
   "outputs": [],
   "source": [
    "df1 = pd.read_csv('data_11_30_20_df.csv', low_memory= False)\n",
    "#df2 = pd.read_csv('data_12-06-20_df.csv', low_memory= False)\n",
    "#df3 = pd.read_csv('data_12-13-20_df.csv', low_memory= False)"
   ]
  },
  {
   "cell_type": "code",
   "execution_count": 4,
   "metadata": {},
   "outputs": [],
   "source": [
    "df_nort = df1[~df1.text.str.contains('RT')] #Removes retweets\n",
    "\n",
    "df_nort = df_nort.drop_duplicates(subset='text') #Removes duplicate tweets\n",
    "\n",
    "tweet = df_nort.text #Separates tweets from other twitter data\n",
    "\n",
    "tweet = tweet.str.lower() #Make lower case\n",
    "\n",
    "tweet_nopunc = tweet.str.replace('[^!#\\w\\s]','') #Removes punctuation\n",
    "\n",
    "tweet_nopunc = tweet.str.replace('\\n',' ') #Removes new line character\n",
    "\n",
    "tweet_nopunc = tweet.str.replace('...', '') #Removes ellipses\n",
    "\n",
    "tweet_nopunc = tweet.str.replace('!', '') #Removes !\n",
    "\n",
    "tweet_nopunc = tweet.str.replace(r'http\\S+', '') #Removes hyperlinks"
   ]
  },
  {
   "cell_type": "code",
   "execution_count": 5,
   "metadata": {},
   "outputs": [],
   "source": [
    "tweet2 = tweet_nopunc.str.cat(sep=' ') #Convert series to list\n",
    "\n",
    "tknzr = TweetTokenizer(strip_handles=True)\n",
    "tokens = tknzr.tokenize(tweet2)"
   ]
  },
  {
   "cell_type": "code",
   "execution_count": null,
   "metadata": {},
   "outputs": [],
   "source": [
    "stop_words = stopwords.words('english')\n",
    "tweet_final = list()\n",
    "for t in tokens:\n",
    "    if t not in stop_words:\n",
    "        tweet_final.append(t)\n",
    "#print(tweet_final)"
   ]
  },
  {
   "cell_type": "code",
   "execution_count": 9,
   "metadata": {},
   "outputs": [
    {
     "name": "stdout",
     "output_type": "stream",
     "text": [
      "Initial Sentiment Analysis w/hashtags incldued: {'neg': 0.025, 'neu': 0.782, 'pos': 0.193, 'compound': 1.0}\n"
     ]
    }
   ],
   "source": [
    "sid = SentimentIntensityAnalyzer()\n",
    "ss = sid.polarity_scores(tweet2)\n",
    "print('Initial Sentiment Analysis w/hashtags incldued:',ss)"
   ]
  },
  {
   "cell_type": "code",
   "execution_count": null,
   "metadata": {},
   "outputs": [],
   "source": []
  }
 ],
 "metadata": {
  "kernelspec": {
   "display_name": "Python 3",
   "language": "python",
   "name": "python3"
  },
  "language_info": {
   "codemirror_mode": {
    "name": "ipython",
    "version": 3
   },
   "file_extension": ".py",
   "mimetype": "text/x-python",
   "name": "python",
   "nbconvert_exporter": "python",
   "pygments_lexer": "ipython3",
   "version": "3.8.5"
  }
 },
 "nbformat": 4,
 "nbformat_minor": 4
}

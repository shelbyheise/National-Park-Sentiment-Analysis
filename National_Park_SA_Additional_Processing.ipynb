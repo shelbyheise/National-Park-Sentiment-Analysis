{
 "cells": [
  {
   "cell_type": "code",
   "execution_count": 18,
   "metadata": {},
   "outputs": [],
   "source": [
    "import pandas as pd\n",
    "import numpy as np\n",
    "import seaborn as sns\n",
    "import nltk\n",
    "from nltk.sentiment import SentimentAnalyzer\n",
    "from nltk.sentiment import SentimentIntensityAnalyzer\n",
    "from nltk.tokenize import TweetTokenizer\n",
    "from nltk.corpus import stopwords\n",
    "from nltk.stem import WordNetLemmatizer\n",
    "    #nltk.download('vader_lexicon')\n",
    "    #nltk.download('wordnet')\n",
    "import demoji #Used to convert emojis to text\n",
    "import re\n",
    "import json\n",
    "import matplotlib.pyplot as plt"
   ]
  },
  {
   "cell_type": "code",
   "execution_count": 3,
   "metadata": {},
   "outputs": [],
   "source": [
    "df1 = pd.read_csv('data_11_30_20_df.csv', low_memory= False)\n",
    "df2 = pd.read_csv('data_12-06-20_df.csv', low_memory= False)\n",
    "df3 = pd.read_csv('data_12-13-20_df.csv', low_memory= False)"
   ]
  },
  {
   "cell_type": "code",
   "execution_count": 4,
   "metadata": {},
   "outputs": [],
   "source": [
    "#Previous analysis focused on one data set. For this step, will be merging and reviewing all three data pulls.\n",
    "dfs = [df1, df2, df3]\n",
    "df = pd.concat(dfs)"
   ]
  },
  {
   "cell_type": "code",
   "execution_count": 5,
   "metadata": {
    "collapsed": true
   },
   "outputs": [
    {
     "data": {
      "text/html": [
       "<div>\n",
       "<style scoped>\n",
       "    .dataframe tbody tr th:only-of-type {\n",
       "        vertical-align: middle;\n",
       "    }\n",
       "\n",
       "    .dataframe tbody tr th {\n",
       "        vertical-align: top;\n",
       "    }\n",
       "\n",
       "    .dataframe thead th {\n",
       "        text-align: right;\n",
       "    }\n",
       "</style>\n",
       "<table border=\"1\" class=\"dataframe\">\n",
       "  <thead>\n",
       "    <tr style=\"text-align: right;\">\n",
       "      <th></th>\n",
       "      <th>created_at</th>\n",
       "      <th>id</th>\n",
       "      <th>id_str</th>\n",
       "      <th>text</th>\n",
       "      <th>truncated</th>\n",
       "      <th>source</th>\n",
       "      <th>in_reply_to_status_id</th>\n",
       "      <th>in_reply_to_status_id_str</th>\n",
       "      <th>in_reply_to_user_id</th>\n",
       "      <th>in_reply_to_user_id_str</th>\n",
       "      <th>...</th>\n",
       "      <th>quoted_status.place.id</th>\n",
       "      <th>quoted_status.place.url</th>\n",
       "      <th>quoted_status.place.place_type</th>\n",
       "      <th>quoted_status.place.name</th>\n",
       "      <th>quoted_status.place.full_name</th>\n",
       "      <th>quoted_status.place.country_code</th>\n",
       "      <th>quoted_status.place.country</th>\n",
       "      <th>quoted_status.place.contained_within</th>\n",
       "      <th>quoted_status.place.bounding_box.type</th>\n",
       "      <th>quoted_status.place.bounding_box.coordinates</th>\n",
       "    </tr>\n",
       "  </thead>\n",
       "  <tbody>\n",
       "    <tr>\n",
       "      <th>0</th>\n",
       "      <td>Mon Nov 30 03:47:59 +0000 2020</td>\n",
       "      <td>1333256437225713664</td>\n",
       "      <td>1333256437225713664</td>\n",
       "      <td>RT @GlacierArtist: https://t.co/WRdskuo5hr\\n\"E...</td>\n",
       "      <td>False</td>\n",
       "      <td>&lt;a href=\"http://twitter.com/download/iphone\" r...</td>\n",
       "      <td>NaN</td>\n",
       "      <td>NaN</td>\n",
       "      <td>NaN</td>\n",
       "      <td>NaN</td>\n",
       "      <td>...</td>\n",
       "      <td>NaN</td>\n",
       "      <td>NaN</td>\n",
       "      <td>NaN</td>\n",
       "      <td>NaN</td>\n",
       "      <td>NaN</td>\n",
       "      <td>NaN</td>\n",
       "      <td>NaN</td>\n",
       "      <td>NaN</td>\n",
       "      <td>NaN</td>\n",
       "      <td>NaN</td>\n",
       "    </tr>\n",
       "    <tr>\n",
       "      <th>1</th>\n",
       "      <td>Mon Nov 30 03:39:03 +0000 2020</td>\n",
       "      <td>1333254185278693378</td>\n",
       "      <td>1333254185278693378</td>\n",
       "      <td>RT @CowboyParamedic: HUGE ONE DAY SALE!!!! Nov...</td>\n",
       "      <td>False</td>\n",
       "      <td>&lt;a href=\"https://mobile.twitter.com\" rel=\"nofo...</td>\n",
       "      <td>NaN</td>\n",
       "      <td>NaN</td>\n",
       "      <td>NaN</td>\n",
       "      <td>NaN</td>\n",
       "      <td>...</td>\n",
       "      <td>NaN</td>\n",
       "      <td>NaN</td>\n",
       "      <td>NaN</td>\n",
       "      <td>NaN</td>\n",
       "      <td>NaN</td>\n",
       "      <td>NaN</td>\n",
       "      <td>NaN</td>\n",
       "      <td>NaN</td>\n",
       "      <td>NaN</td>\n",
       "      <td>NaN</td>\n",
       "    </tr>\n",
       "    <tr>\n",
       "      <th>2</th>\n",
       "      <td>Mon Nov 30 03:32:31 +0000 2020</td>\n",
       "      <td>1333252543758086145</td>\n",
       "      <td>1333252543758086145</td>\n",
       "      <td>Teddy Roosevelt was onto something when select...</td>\n",
       "      <td>True</td>\n",
       "      <td>&lt;a href=\"https://ifttt.com\" rel=\"nofollow\"&gt;IFT...</td>\n",
       "      <td>NaN</td>\n",
       "      <td>NaN</td>\n",
       "      <td>NaN</td>\n",
       "      <td>NaN</td>\n",
       "      <td>...</td>\n",
       "      <td>NaN</td>\n",
       "      <td>NaN</td>\n",
       "      <td>NaN</td>\n",
       "      <td>NaN</td>\n",
       "      <td>NaN</td>\n",
       "      <td>NaN</td>\n",
       "      <td>NaN</td>\n",
       "      <td>NaN</td>\n",
       "      <td>NaN</td>\n",
       "      <td>NaN</td>\n",
       "    </tr>\n",
       "    <tr>\n",
       "      <th>3</th>\n",
       "      <td>Mon Nov 30 03:20:08 +0000 2020</td>\n",
       "      <td>1333249426807197702</td>\n",
       "      <td>1333249426807197702</td>\n",
       "      <td>RT @TrailofHighways: Bridge of timber in a for...</td>\n",
       "      <td>False</td>\n",
       "      <td>&lt;a href=\"https://www.main-angler.de\" rel=\"nofo...</td>\n",
       "      <td>NaN</td>\n",
       "      <td>NaN</td>\n",
       "      <td>NaN</td>\n",
       "      <td>NaN</td>\n",
       "      <td>...</td>\n",
       "      <td>NaN</td>\n",
       "      <td>NaN</td>\n",
       "      <td>NaN</td>\n",
       "      <td>NaN</td>\n",
       "      <td>NaN</td>\n",
       "      <td>NaN</td>\n",
       "      <td>NaN</td>\n",
       "      <td>NaN</td>\n",
       "      <td>NaN</td>\n",
       "      <td>NaN</td>\n",
       "    </tr>\n",
       "    <tr>\n",
       "      <th>4</th>\n",
       "      <td>Mon Nov 30 03:20:03 +0000 2020</td>\n",
       "      <td>1333249404262821888</td>\n",
       "      <td>1333249404262821888</td>\n",
       "      <td>Bridge of timber in a forest of timber, \\n.\\n....</td>\n",
       "      <td>True</td>\n",
       "      <td>&lt;a href=\"https://www.hootsuite.com\" rel=\"nofol...</td>\n",
       "      <td>NaN</td>\n",
       "      <td>NaN</td>\n",
       "      <td>NaN</td>\n",
       "      <td>NaN</td>\n",
       "      <td>...</td>\n",
       "      <td>NaN</td>\n",
       "      <td>NaN</td>\n",
       "      <td>NaN</td>\n",
       "      <td>NaN</td>\n",
       "      <td>NaN</td>\n",
       "      <td>NaN</td>\n",
       "      <td>NaN</td>\n",
       "      <td>NaN</td>\n",
       "      <td>NaN</td>\n",
       "      <td>NaN</td>\n",
       "    </tr>\n",
       "  </tbody>\n",
       "</table>\n",
       "<p>5 rows × 348 columns</p>\n",
       "</div>"
      ],
      "text/plain": [
       "                       created_at                   id               id_str  \\\n",
       "0  Mon Nov 30 03:47:59 +0000 2020  1333256437225713664  1333256437225713664   \n",
       "1  Mon Nov 30 03:39:03 +0000 2020  1333254185278693378  1333254185278693378   \n",
       "2  Mon Nov 30 03:32:31 +0000 2020  1333252543758086145  1333252543758086145   \n",
       "3  Mon Nov 30 03:20:08 +0000 2020  1333249426807197702  1333249426807197702   \n",
       "4  Mon Nov 30 03:20:03 +0000 2020  1333249404262821888  1333249404262821888   \n",
       "\n",
       "                                                text  truncated  \\\n",
       "0  RT @GlacierArtist: https://t.co/WRdskuo5hr\\n\"E...      False   \n",
       "1  RT @CowboyParamedic: HUGE ONE DAY SALE!!!! Nov...      False   \n",
       "2  Teddy Roosevelt was onto something when select...       True   \n",
       "3  RT @TrailofHighways: Bridge of timber in a for...      False   \n",
       "4  Bridge of timber in a forest of timber, \\n.\\n....       True   \n",
       "\n",
       "                                              source  in_reply_to_status_id  \\\n",
       "0  <a href=\"http://twitter.com/download/iphone\" r...                    NaN   \n",
       "1  <a href=\"https://mobile.twitter.com\" rel=\"nofo...                    NaN   \n",
       "2  <a href=\"https://ifttt.com\" rel=\"nofollow\">IFT...                    NaN   \n",
       "3  <a href=\"https://www.main-angler.de\" rel=\"nofo...                    NaN   \n",
       "4  <a href=\"https://www.hootsuite.com\" rel=\"nofol...                    NaN   \n",
       "\n",
       "   in_reply_to_status_id_str  in_reply_to_user_id  in_reply_to_user_id_str  \\\n",
       "0                        NaN                  NaN                      NaN   \n",
       "1                        NaN                  NaN                      NaN   \n",
       "2                        NaN                  NaN                      NaN   \n",
       "3                        NaN                  NaN                      NaN   \n",
       "4                        NaN                  NaN                      NaN   \n",
       "\n",
       "   ... quoted_status.place.id  quoted_status.place.url  \\\n",
       "0  ...                    NaN                      NaN   \n",
       "1  ...                    NaN                      NaN   \n",
       "2  ...                    NaN                      NaN   \n",
       "3  ...                    NaN                      NaN   \n",
       "4  ...                    NaN                      NaN   \n",
       "\n",
       "   quoted_status.place.place_type  quoted_status.place.name  \\\n",
       "0                             NaN                       NaN   \n",
       "1                             NaN                       NaN   \n",
       "2                             NaN                       NaN   \n",
       "3                             NaN                       NaN   \n",
       "4                             NaN                       NaN   \n",
       "\n",
       "   quoted_status.place.full_name  quoted_status.place.country_code  \\\n",
       "0                            NaN                               NaN   \n",
       "1                            NaN                               NaN   \n",
       "2                            NaN                               NaN   \n",
       "3                            NaN                               NaN   \n",
       "4                            NaN                               NaN   \n",
       "\n",
       "   quoted_status.place.country  quoted_status.place.contained_within  \\\n",
       "0                          NaN                                   NaN   \n",
       "1                          NaN                                   NaN   \n",
       "2                          NaN                                   NaN   \n",
       "3                          NaN                                   NaN   \n",
       "4                          NaN                                   NaN   \n",
       "\n",
       "   quoted_status.place.bounding_box.type  \\\n",
       "0                                    NaN   \n",
       "1                                    NaN   \n",
       "2                                    NaN   \n",
       "3                                    NaN   \n",
       "4                                    NaN   \n",
       "\n",
       "   quoted_status.place.bounding_box.coordinates  \n",
       "0                                           NaN  \n",
       "1                                           NaN  \n",
       "2                                           NaN  \n",
       "3                                           NaN  \n",
       "4                                           NaN  \n",
       "\n",
       "[5 rows x 348 columns]"
      ]
     },
     "execution_count": 5,
     "metadata": {},
     "output_type": "execute_result"
    }
   ],
   "source": [
    "df.head(5)"
   ]
  },
  {
   "cell_type": "code",
   "execution_count": 6,
   "metadata": {},
   "outputs": [],
   "source": [
    "df_nort = df[~df.text.str.contains('RT')].drop_duplicates(subset='text') #Removes retweets and drops duplicate tweets\n",
    "\n",
    "tweet = df_nort.text.str.lower() #Separates tweets from other twitter data and converts to lower case"
   ]
  },
  {
   "cell_type": "code",
   "execution_count": 7,
   "metadata": {},
   "outputs": [
    {
     "name": "stdout",
     "output_type": "stream",
     "text": [
      "Downloading emoji data ...\n",
      "... OK (Got response in 0.10 seconds)\n",
      "Writing emoji data to /Users/shelbyheise/.demoji/codes.json ...\n",
      "... OK\n"
     ]
    }
   ],
   "source": [
    "#Before additional tweet cleaning, converting emojis to text using demoji. \n",
    "#This allows the meaning of emojis to be used in text analysis. \n",
    "demoji.download_codes()\n",
    "\n",
    "tweet_noemoji = tweet.str.cat(sep=' ') #Convert series to list\n",
    "\n",
    "demoji.findall(tweet_noemoji) #Finds emojis in tweets\n",
    "\n",
    "tweet_noemoji = demoji.replace_with_desc(tweet_noemoji, sep= ' ') #Replaces emojis with text description"
   ]
  },
  {
   "cell_type": "code",
   "execution_count": 8,
   "metadata": {},
   "outputs": [],
   "source": [
    "#Additional tweet cleaning\n",
    "tweet_nopunc = tweet_noemoji.replace('[^!#\\w\\s]','') #Removes punctuation\n",
    "\n",
    "tweet_nopunc = tweet_nopunc.replace('\\n', '') #Removes new line character\n",
    "\n",
    "#Following lines remove other speciality characters\n",
    "\n",
    "tweet_nopunc = tweet_nopunc.replace('[-%/?)(><|]', '') \n",
    "\n",
    "tweet_nopunc = tweet_nopunc.replace('…', '').replace('.','').replace(',','').replace('!','').replace(':','')\n",
    "\n",
    "tweet_nopunc = tweet_nopunc.replace('-', '').replace('_____________________', '').replace('’', '').replace('?', '')\n",
    "\n",
    "tweet_nopunc = tweet_nopunc.replace('&', '').replace('...', '').replace(';', '').replace('/', '').replace('•', '')\n",
    "\n",
    "tweet_nopunc = re.sub(r'http\\S+', '', tweet_nopunc) #Removes hyperlinks"
   ]
  },
  {
   "cell_type": "code",
   "execution_count": 9,
   "metadata": {},
   "outputs": [],
   "source": [
    "#print(tweet_nopunc)"
   ]
  },
  {
   "cell_type": "code",
   "execution_count": 10,
   "metadata": {},
   "outputs": [],
   "source": [
    "#Create tokens and strip Twitter handles\n",
    "tknzr = TweetTokenizer(strip_handles=True)\n",
    "tokens = tknzr.tokenize(tweet_nopunc)"
   ]
  },
  {
   "cell_type": "code",
   "execution_count": 11,
   "metadata": {},
   "outputs": [],
   "source": [
    "#print(tokens)"
   ]
  },
  {
   "cell_type": "code",
   "execution_count": 12,
   "metadata": {},
   "outputs": [],
   "source": [
    "#Remove stop words\n",
    "stop_words = stopwords.words('english')\n",
    "tweet_stop = list()\n",
    "for t in tokens:\n",
    "    if t not in stop_words:\n",
    "        tweet_stop.append(t)\n",
    "#print(tweet_stop)"
   ]
  },
  {
   "cell_type": "code",
   "execution_count": 13,
   "metadata": {},
   "outputs": [],
   "source": [
    "#Lemmatize\n",
    "lemmatizer = WordNetLemmatizer() \n",
    "tweet_final = list()\n",
    "for f in tweet_stop:\n",
    "    tweet_final.append(lemmatizer.lemmatize(f))\n",
    "    \n",
    "#print(tweet_final)"
   ]
  },
  {
   "cell_type": "code",
   "execution_count": 14,
   "metadata": {},
   "outputs": [
    {
     "name": "stdout",
     "output_type": "stream",
     "text": [
      "[('#yosemite', 362), ('national', 360), ('park', 342), ('#nps', 322), ('#grandcanyon', 278), ('grand', 192), ('canyon', 184), ('mountain', 171), ('yosemite', 147), ('amp', 144), ('trail', 134), ('\"', 123), ('day', 115), ('great', 114), ('(', 112), ('np', 107), (')', 99), ('#gsmnp', 95), ('hike', 88), ('view', 87), ('face', 85), ('one', 83), ('@', 79), ('today', 77), ('art', 76), ('#glaciernationalpark', 75), ('trip', 74), ('#california', 74), ('year', 73), ('lake', 73), ('camera', 71), ('2020', 68), ('#rmnp', 64), ('glacier', 63), ('fall', 63), ('#arizona', 62), ('#photography', 62), ('see', 61), ('eye', 57), ('#hiking', 57), ('customer', 56), ('time', 56), ('#nationalpark', 56), ('15', 56), ('live', 55), ('death', 55), ('image', 54), ('beautiful', 54), ('#findyourpark', 53), ('photo', 53), ('#travel', 53), ('recently', 51), ('#tuleelk', 51), ('tree', 50), ('best', 50), ('activist', 49), ('demonstrated', 49), ('mourned', 49), ('preventable', 49), ('like', 48), ('#zionnationalpark', 48), ('winter', 48), ('malice', 48), ('#nature', 46), ('“', 45), ('heart', 45), ('sale', 44), ('new', 43), ('right', 42), ('learn', 41), ('#artlovers', 41), ('get', 41), ('go', 40), ('week', 40), ('way', 40), ('place', 40), ('u', 39), ('zion', 39), ('snow', 39), ('wall', 38), ('#nationalparks', 38), ('know', 38), ('via', 38), ('light', 37), ('point', 36), ('road', 36), ('valley', 36), ('check', 36), ('|', 36), ('smiling', 36), ('waterfall', 35), ('back', 34), ('smoky', 33), ('take', 33), ('morning', 33), ('look', 33), ('mcdonald', 32), ('rocky', 32), ('score', 31), ('enjoy', 31)]\n"
     ]
    }
   ],
   "source": [
    "#Check for frequency of words\n",
    "fd = nltk.FreqDist(tweet_final)\n",
    "\n",
    "print(fd.most_common(100)) #100 most common words"
   ]
  },
  {
   "cell_type": "code",
   "execution_count": 35,
   "metadata": {},
   "outputs": [
    {
     "data": {
      "image/png": "[encoded data removed]",
      "text/plain": [
       "<Figure size 720x720 with 1 Axes>"
      ]
     },
     "metadata": {
      "needs_background": "light"
     },
     "output_type": "display_data"
    }
   ],
   "source": [
    "df_most_comm = pd.DataFrame(fd.most_common(25),\n",
    "                    columns=['Word', 'Frequency'])\n",
    "\n",
    "labels = df_most_comm.Word\n",
    "plt.figure(figsize=(10,10))\n",
    "plot = sns.barplot(x='Word', y='Frequency', data=df_most_comm)\n",
    "plot.set_xticklabels(labels, rotation=90, ha= 'right')\n",
    "\n",
    "plt.show()"
   ]
  },
  {
   "cell_type": "code",
   "execution_count": 24,
   "metadata": {},
   "outputs": [
    {
     "name": "stdout",
     "output_type": "stream",
     "text": [
      "Sentiment Analysis w/hashtags incldued: {'neg': 0.032, 'neu': 0.775, 'pos': 0.194, 'compound': 1.0}\n"
     ]
    }
   ],
   "source": [
    "sid = SentimentIntensityAnalyzer()\n",
    "ss = sid.polarity_scores(str(tweet_nopunc))\n",
    "print('Sentiment Analysis w/hashtags incldued:',ss)"
   ]
  }
 ],
 "metadata": {
  "kernelspec": {
   "display_name": "Python 3",
   "language": "python",
   "name": "python3"
  },
  "language_info": {
   "codemirror_mode": {
    "name": "ipython",
    "version": 3
   },
   "file_extension": ".py",
   "mimetype": "text/x-python",
   "name": "python",
   "nbconvert_exporter": "python",
   "pygments_lexer": "ipython3",
   "version": "3.8.5"
  }
 },
 "nbformat": 4,
 "nbformat_minor": 4
}

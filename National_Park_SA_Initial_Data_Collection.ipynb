{
 "cells": [
  {
   "cell_type": "code",
   "execution_count": 20,
   "metadata": {},
   "outputs": [],
   "source": [
    "import pandas as pd\n",
    "import numpy as np\n",
    "import time\n",
    "from twython import Twython, TwythonError, TwythonRateLimitError\n",
    "import json \n",
    "import sklearn\n",
    "from sklearn.feature_extraction import text\n",
    "import pandas_profiling\n",
    "from pandas_profiling.utils.cache import cache_file "
   ]
  },
  {
   "cell_type": "code",
   "execution_count": 21,
   "metadata": {},
   "outputs": [],
   "source": [
    "#Set up API access information\n",
    "APP_KEY = 'SECRET CODE'\n",
    "APP_SECRET = 'SECRET CODE'\n",
    "\n",
    "twitter = Twython(APP_KEY, APP_SECRET, oauth_version=2)\n",
    "ACCESS_TOKEN = twitter.obtain_access_token()"
   ]
  },
  {
   "cell_type": "code",
   "execution_count": 22,
   "metadata": {},
   "outputs": [],
   "source": [
    "#Use Twython to connect to twitter\n",
    "twitter = Twython(APP_KEY, access_token=ACCESS_TOKEN)"
   ]
  },
  {
   "cell_type": "code",
   "execution_count": 103,
   "metadata": {},
   "outputs": [],
   "source": [
    "#Search twitter for set hashtags-- initial collection is for only 6 hashtags\n",
    "query = '#gsmnp OR #GrandCanyon OR #rmnp OR #ZionNPS OR #Yosemite OR #NPS'"
   ]
  },
  {
   "cell_type": "code",
   "execution_count": null,
   "metadata": {
    "scrolled": true
   },
   "outputs": [],
   "source": [
    "listed = pd.DataFrame()\n",
    "request_pages = 450\n",
    "for i in range(0, request_pages):\n",
    "    if i == 0: #on intial request, search for query\n",
    "        q_tweet = twitter.search(q = query, count = '100', lang = 'en')\n",
    "    else: #for additional request, search query and use the previous minimum id value as starting max value\n",
    "        q_tweet = twitter.search(q = query, count = '100', lang = 'en',\n",
    "                                max_id = curr_since)\n",
    "    t_df = pd.json_normalize(q_tweet['statuses']) #normalize data\n",
    "    if len(t_df.index) == 0: #if the length of the dataframe is equal to 0, break\n",
    "        break\n",
    "    curr_since = min(t_df['id']) #initial minimum id\n",
    "    curr_since = str(curr_since) #convert to string\n",
    "    listed = listed.append(t_df) \n",
    "    time.sleep(2)"
   ]
  },
  {
   "cell_type": "code",
   "execution_count": 192,
   "metadata": {},
   "outputs": [],
   "source": [
    "#Save the data to .csv\n",
    "listed.to_csv('data_df.csv', index=False) #save test file so not continually pulling from Twitter"
   ]
  },
  {
   "cell_type": "code",
   "execution_count": 194,
   "metadata": {},
   "outputs": [
    {
     "name": "stdout",
     "output_type": "stream",
     "text": [
      "<class 'pandas.core.frame.DataFrame'>\n",
      "RangeIndex: 2200 entries, 0 to 2199\n",
      "Columns: 348 entries, created_at to quoted_status.place.bounding_box.coordinates\n",
      "dtypes: bool(15), float64(99), int64(11), object(223)\n",
      "memory usage: 5.6+ MB\n"
     ]
    }
   ],
   "source": [
    "#Open file\n",
    "df = pd.read_csv('data_df.csv', low_memory= False)\n",
    "df.describe()\n",
    "df.info()"
   ]
  },
  {
   "cell_type": "code",
   "execution_count": 196,
   "metadata": {},
   "outputs": [
    {
     "name": "stdout",
     "output_type": "stream",
     "text": [
      "Index(['created_at', 'id', 'id_str', 'text', 'truncated', 'source',\n",
      "       'in_reply_to_status_id', 'in_reply_to_status_id_str',\n",
      "       'in_reply_to_user_id', 'in_reply_to_user_id_str',\n",
      "       ...\n",
      "       'quoted_status.place.id', 'quoted_status.place.url',\n",
      "       'quoted_status.place.place_type', 'quoted_status.place.name',\n",
      "       'quoted_status.place.full_name', 'quoted_status.place.country_code',\n",
      "       'quoted_status.place.country', 'quoted_status.place.contained_within',\n",
      "       'quoted_status.place.bounding_box.type',\n",
      "       'quoted_status.place.bounding_box.coordinates'],\n",
      "      dtype='object', length=348)\n"
     ]
    }
   ],
   "source": [
    "print(df.columns)"
   ]
  },
  {
   "cell_type": "code",
   "execution_count": 197,
   "metadata": {},
   "outputs": [
    {
     "name": "stdout",
     "output_type": "stream",
     "text": [
      "False\n"
     ]
    }
   ],
   "source": [
    "#Check to see if any null values in text column\n",
    "print(df['text'].isnull().values.any())"
   ]
  }
 ],
 "metadata": {
  "kernelspec": {
   "display_name": "Python 3",
   "language": "python",
   "name": "python3"
  },
  "language_info": {
   "codemirror_mode": {
    "name": "ipython",
    "version": 3
   },
   "file_extension": ".py",
   "mimetype": "text/x-python",
   "name": "python",
   "nbconvert_exporter": "python",
   "pygments_lexer": "ipython3",
   "version": "3.8.5"
  }
 },
 "nbformat": 4,
 "nbformat_minor": 4
}

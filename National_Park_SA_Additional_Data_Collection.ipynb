{
 "cells": [
  {
   "cell_type": "code",
   "execution_count": 1,
   "metadata": {},
   "outputs": [],
   "source": [
    "import pandas as pd\n",
    "import numpy as np\n",
    "import time\n",
    "from twython import Twython, TwythonError, TwythonRateLimitError\n",
    "import json\n",
    "import sklearn\n",
    "from sklearn.feature_extraction import text\n",
    "import seaborn as sns"
   ]
  },
  {
   "cell_type": "code",
   "execution_count": 2,
   "metadata": {},
   "outputs": [],
   "source": [
    "#Set up API access information\n",
    "APP_KEY = 'SECRET CODE'\n",
    "APP_SECRET = 'SECRET CODE'\n",
    "\n",
    "twitter = Twython(APP_KEY, APP_SECRET, oauth_version=2)\n",
    "ACCESS_TOKEN = twitter.obtain_access_token()"
   ]
  },
  {
   "cell_type": "code",
   "execution_count": 3,
   "metadata": {},
   "outputs": [],
   "source": [
    "#Use Twython to connect to twitter\n",
    "twitter = Twython(APP_KEY, access_token=ACCESS_TOKEN)"
   ]
  },
  {
   "cell_type": "code",
   "execution_count": 4,
   "metadata": {},
   "outputs": [],
   "source": [
    "#Search twitter for # used on Twitter by 10 most visited national parks\n",
    "#Each query represents a 7-day window, and is commented out after completing pull\n",
    "#query = '#gsmnp OR #GrandCanyon OR #rmnp OR #ZionNationalPark OR #Yosemite OR #AcadiaNationalPark OR #GrandTeton OR #OlympicNationalPark OR #GlacierNationalPark OR #NPS'\n",
    "#query2 = '#gsmnp OR #GrandCanyon OR #rmnp OR #ZionNationalPark OR #Yosemite OR #AcadiaNationalPark OR #GrandTeton OR #OlympicNationalPark OR #GlacierNationalPark OR #NPS'\n",
    "query3 = '#gsmnp OR #GrandCanyon OR #rmnp OR #ZionNationalPark OR #Yosemite OR #AcadiaNationalPark OR #GrandTeton OR #OlympicNationalPark OR #GlacierNationalPark OR #NPS'"
   ]
  },
  {
   "cell_type": "code",
   "execution_count": null,
   "metadata": {
    "scrolled": false
   },
   "outputs": [],
   "source": [
    "'''\n",
    "listed = pd.DataFrame()\n",
    "request_pages = 450\n",
    "for i in range(0, request_pages):\n",
    "    if i == 0: #on intial request, search for query\n",
    "        q_tweet = twitter.search(q = query, count = '100', lang = 'en')\n",
    "    else: #for additional request, search query and use the previous minimum id value as starting max value\n",
    "        q_tweet = twitter.search(q = query, count = '100', lang = 'en',\n",
    "                                max_id = curr_since)\n",
    "    t_df = pd.json_normalize(q_tweet['statuses']) #normalize data\n",
    "    if len(t_df.index) == 0: #if the length of the dataframe is equal to 0, break\n",
    "        break\n",
    "    curr_since = min(t_df['id']) #initial minimum id\n",
    "    curr_since = str(curr_since) #convert to string\n",
    "    listed = listed.append(t_df) \n",
    "    time.sleep(2)\n",
    "'''"
   ]
  },
  {
   "cell_type": "code",
   "execution_count": 6,
   "metadata": {},
   "outputs": [],
   "source": [
    "'''\n",
    "listed2 = pd.DataFrame()\n",
    "request_pages = 450\n",
    "for i in range(0, request_pages):\n",
    "    if i == 0: #on intial request, search for query\n",
    "        q_tweet = twitter.search(q = query2, count = '100', lang = 'en', fromDate ='20201130', toDate='20201206')\n",
    "    else: #for additional request, search query and use the previous minimum id value as starting max value\n",
    "        q_tweet = twitter.search(q = query2, count = '100', lang = 'en', fromDate ='20201130', toDate='20201206',\n",
    "                                max_id = curr_since)\n",
    "    t_df = pd.json_normalize(q_tweet['statuses']) #normalize data\n",
    "    if len(t_df.index) == 0: #if the length of the dataframe is equal to 0, break\n",
    "        break\n",
    "    curr_since = min(t_df['id']) #initial minimum id\n",
    "    curr_since = str(curr_since) #convert to string\n",
    "    listed2 = listed2.append(t_df) \n",
    "    time.sleep(2)\n",
    "'''"
   ]
  },
  {
   "cell_type": "code",
   "execution_count": 5,
   "metadata": {},
   "outputs": [],
   "source": [
    "listed3 = pd.DataFrame()\n",
    "request_pages = 450\n",
    "for i in range(0, request_pages):\n",
    "    if i == 0: #on intial request, search for query\n",
    "        q_tweet = twitter.search(q = query3, count = '100', lang = 'en')\n",
    "    else: #for additional request, search query and use the previous minimum id value as starting max value\n",
    "        q_tweet = twitter.search(q = query3, count = '100', lang = 'en',\n",
    "                                max_id = curr_since)\n",
    "    t_df = pd.json_normalize(q_tweet['statuses']) #normalize data\n",
    "    if len(t_df.index) == 0: #if the length of the dataframe is equal to 0, break\n",
    "        break\n",
    "    curr_since = min(t_df['id']) #initial minimum id\n",
    "    curr_since = str(curr_since) #convert to string\n",
    "    listed3 = listed3.append(t_df) \n",
    "    time.sleep(2)"
   ]
  },
  {
   "cell_type": "code",
   "execution_count": 7,
   "metadata": {},
   "outputs": [],
   "source": [
    "#Save the data to .csv\n",
    "#listed.to_csv('data_11_30_20_df.csv', index=False) \n",
    "#listed2.to_csv('data_12-06-20_df.csv', index=False)\n",
    "listed3.to_csv('data_12-27-20_df.csv', index=False)"
   ]
  },
  {
   "cell_type": "code",
   "execution_count": 16,
   "metadata": {
    "scrolled": true
   },
   "outputs": [
    {
     "name": "stdout",
     "output_type": "stream",
     "text": [
      "<class 'pandas.core.frame.DataFrame'>\n",
      "RangeIndex: 2237 entries, 0 to 2236\n",
      "Columns: 348 entries, created_at to quoted_status.place.bounding_box.coordinates\n",
      "dtypes: bool(15), float64(99), int64(11), object(223)\n",
      "memory usage: 5.7+ MB\n"
     ]
    }
   ],
   "source": [
    "#Open file\n",
    "df = pd.read_csv('data_11_30_20_df.csv', low_memory= False)\n",
    "df.describe()\n",
    "df.info()"
   ]
  }
 ],
 "metadata": {
  "kernelspec": {
   "display_name": "Python 3",
   "language": "python",
   "name": "python3"
  },
  "language_info": {
   "codemirror_mode": {
    "name": "ipython",
    "version": 3
   },
   "file_extension": ".py",
   "mimetype": "text/x-python",
   "name": "python",
   "nbconvert_exporter": "python",
   "pygments_lexer": "ipython3",
   "version": "3.8.5"
  }
 },
 "nbformat": 4,
 "nbformat_minor": 4
}
